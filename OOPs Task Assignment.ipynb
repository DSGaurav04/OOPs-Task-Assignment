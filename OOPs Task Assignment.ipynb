{
 "cells": [
  {
   "cell_type": "markdown",
   "id": "bbbd766d-e982-4165-ad4b-c7b9ecb5fa10",
   "metadata": {},
   "source": [
    "Q1, Create a vehicle class with an init method having instance variables as name_of_vehicle, max_speed\r\n",
    "and average_of_vehicle."
   ]
  },
  {
   "cell_type": "code",
   "execution_count": 4,
   "id": "c0631640-ce73-495e-9be8-2ba315ac9920",
   "metadata": {},
   "outputs": [
    {
     "name": "stdout",
     "output_type": "stream",
     "text": [
      "Name of Vehicle: Mahindra Thar1\n",
      "Max Speed: 150\n",
      "Average Speed: 60\n"
     ]
    }
   ],
   "source": [
    "#code\n",
    "\n",
    "class vehicle:\n",
    "    def __init__(self, name_of_vehicle , max_speed , average_of_vehicle):\n",
    "        self.name_of_vehicle = name_of_vehicle\n",
    "        self.max_speed = max_speed\n",
    "        self.average_of_vehicle = average_of_vehicle\n",
    "\n",
    "car = vehicle(\"Mahindra Thar1\" , 150 , 60)\n",
    "\n",
    "print(\"Name of Vehicle:\", car.name_of_vehicle)\n",
    "print(\"Max Speed:\", car.max_speed)\n",
    "print(\"Average Speed:\", car.average_of_vehicle)"
   ]
  },
  {
   "cell_type": "raw",
   "id": "04c5ad8f-1eec-4e62-b7e1-94f1949b40d3",
   "metadata": {},
   "source": []
  },
  {
   "cell_type": "markdown",
   "id": "a2f6c1e5-8fae-425b-9c3d-6d4f6af753fd",
   "metadata": {},
   "source": [
    "Q2. Create a child class car from the vehicle class created in Que 1, which will inherit the vehicle class.\r\n",
    "Create a method named seating_capacity which takes capacity as an argument and returns the name of\r\n",
    "the vehicle and its seating capacity."
   ]
  },
  {
   "cell_type": "code",
   "execution_count": 7,
   "id": "ee5d8a1a-b880-44dc-ae4d-70ec0c384613",
   "metadata": {},
   "outputs": [
    {
     "name": "stdout",
     "output_type": "stream",
     "text": [
      "The Mahindra Thar has a seating capacity of 4.\n"
     ]
    }
   ],
   "source": [
    "##code\n",
    "\n",
    "class vehicle:\n",
    "    def __init__(self, name_of_vehicle , max_speed , average_of_vehicle):\n",
    "        self.name_of_vehicle = name_of_vehicle\n",
    "        self.max_speed = max_speed\n",
    "        self.average_of_vehicle = average_of_vehicle\n",
    "\n",
    "class Car(vehicle):\n",
    "    def __init__(self, name_of_vehicle, max_speed, average_of_vehicle):\n",
    "        super().__init__(name_of_vehicle, max_speed, average_of_vehicle)\n",
    "\n",
    "    def seating_capacity(self, capacity):\n",
    "        return f\"The {self.name_of_vehicle} has a seating capacity of {capacity}.\"\n",
    "\n",
    "# Example usage:\n",
    "car = Car(\"Mahindra Thar\", 160, 50)\n",
    "print(car.seating_capacity(4))"
   ]
  },
  {
   "cell_type": "raw",
   "id": "5640aaf4-a97c-4068-81d4-769ad360ab69",
   "metadata": {},
   "source": []
  },
  {
   "cell_type": "markdown",
   "id": "d798073f-2a54-45e0-8083-43b5b758e810",
   "metadata": {},
   "source": [
    "Q3. What is multiple inheritance? Write a python code to demonstrate multiple inheritance."
   ]
  },
  {
   "cell_type": "raw",
   "id": "693424ce-4206-4a6d-8fc7-e019733e67f9",
   "metadata": {},
   "source": [
    "Multiple inheritance : Is a feature in object-oriented programming languages where a class can inherit attributes and methods from more than one parent class. This means that a subclass can inherit from multiple superclasses, allowing it to access and use the attributes and methods defined in all of its parent classes."
   ]
  },
  {
   "cell_type": "code",
   "execution_count": 15,
   "id": "059b8745-6025-4701-aa3d-56986e0ed6e7",
   "metadata": {},
   "outputs": [
    {
     "name": "stdout",
     "output_type": "stream",
     "text": [
      "vehicle : mahindra thar\n",
      "engine type : V4\n"
     ]
    }
   ],
   "source": [
    "##code\n",
    "\n",
    "class vehicle:\n",
    "    def __init__(self,name):\n",
    "        self.name = name\n",
    "\n",
    "    def display_name(self):\n",
    "         print(\"vehicle :\" , self.name)\n",
    "\n",
    "class engine:\n",
    "    def __init__(self, engine_type):\n",
    "        self.engine_type = engine_type\n",
    "\n",
    "    def display_engine_type(self):\n",
    "        print(\"engine type :\" , self.engine_type)\n",
    "\n",
    "\n",
    "class car(vehicle,engine):\n",
    "    def __init__(self,name,engine_type):\n",
    "        vehicle.__init__(self,name)\n",
    "        engine.__init__(self,engine_type)\n",
    "\n",
    "    def display_details(self):\n",
    "        print(\"car name :\" , self.name)\n",
    "        print(\"car engine type :\" , self.engine_type)\n",
    "\n",
    "my_car = car(\"mahindra thar\" , \"V4\")\n",
    "\n",
    "my_car.display_name()\n",
    "my_car.display_engine_type()\n",
    "        \n",
    "    \n",
    "    "
   ]
  },
  {
   "cell_type": "code",
   "execution_count": null,
   "id": "586aa1f9-ba46-4cbc-a98f-0bfe2c30cc69",
   "metadata": {},
   "outputs": [],
   "source": []
  },
  {
   "cell_type": "markdown",
   "id": "80459f34-0baa-4c14-8ef1-435fc9a267b2",
   "metadata": {},
   "source": [
    "Q4. What are getter and setter in python? Create a class and create a getter and a setter method in this\n",
    "class."
   ]
  },
  {
   "cell_type": "raw",
   "id": "9fbd0f4e-4cad-4003-b7c9-7eb7b0be619a",
   "metadata": {},
   "source": [
    "In Python, getters and setters are methods used to retrieve (get) and set values of attributes of a class, respectively. They provide a way to control access to the attributes of an object and allow validation or manipulation of the data being accessed or modified."
   ]
  },
  {
   "cell_type": "code",
   "execution_count": 17,
   "id": "def97fbc-522f-4c62-9746-74d5ef7a9411",
   "metadata": {},
   "outputs": [
    {
     "name": "stdout",
     "output_type": "stream",
     "text": [
      "Name: Gaurya\n",
      "Age: 19\n",
      "Updated Name: Gaurav\n",
      "Updated Age: 21\n"
     ]
    }
   ],
   "source": [
    "##code\n",
    "\n",
    "class Person:\n",
    "    def __init__(self, name, age):\n",
    "        self._name = name\n",
    "        self._age = age\n",
    "\n",
    "    def get_name(self):\n",
    "        return self._name\n",
    "\n",
    "    def set_name(self, name):\n",
    "        self._name = name\n",
    "\n",
    "    def get_age(self):\n",
    "        return self._age\n",
    "\n",
    "    def set_age(self, age):\n",
    "        if age >= 0:  \n",
    "            self._age = age\n",
    "        else:\n",
    "            print(\"Age cannot be negative.\")\n",
    "\n",
    "person1 = Person(\"Gaurya\", 19)\n",
    "\n",
    "print(\"Name:\", person1.get_name())\n",
    "print(\"Age:\", person1.get_age())\n",
    "\n",
    "person1.set_name(\"Gaurav\")\n",
    "person1.set_age(21)\n",
    "\n",
    "print(\"Updated Name:\", person1.get_name())\n",
    "print(\"Updated Age:\", person1.get_age())\n"
   ]
  },
  {
   "cell_type": "code",
   "execution_count": null,
   "id": "a7ca896c-eeb4-4488-b2f8-784457c0e50c",
   "metadata": {},
   "outputs": [],
   "source": []
  },
  {
   "cell_type": "markdown",
   "id": "93f5ce64-958c-4316-8659-faf18769c680",
   "metadata": {},
   "source": [
    "Q5.What is method overriding in python? Write a python code to demonstrate method overriding."
   ]
  },
  {
   "cell_type": "raw",
   "id": "260f9d6a-64e3-4c41-bfdd-b65f263a03b6",
   "metadata": {},
   "source": [
    "Method overriding in Python occurs when a subclass defines a method that has the same name as a method in its superclass. When an object of the subclass calls the overridden method, the method defined in the subclass is executed instead of the method in the superclass. Method overriding is a feature of polymorphism in object-oriented programming.\n"
   ]
  },
  {
   "cell_type": "code",
   "execution_count": 18,
   "id": "dc20e3b6-b97f-4387-93cf-baa857c82319",
   "metadata": {},
   "outputs": [
    {
     "name": "stdout",
     "output_type": "stream",
     "text": [
      "Dog barks\n",
      "Cat meows\n"
     ]
    }
   ],
   "source": [
    "class Animal:\n",
    "    def sound(self):\n",
    "        print(\"Animal makes a sound\")\n",
    "\n",
    "class Dog(Animal):\n",
    "    def sound(self):\n",
    "        print(\"Dog barks\")\n",
    "\n",
    "class Cat(Animal):\n",
    "    def sound(self):\n",
    "        print(\"Cat meows\")\n",
    "\n",
    "dog = Dog()\n",
    "cat = Cat()\n",
    "\n",
    "dog.sound()\n",
    "cat.sound()\n"
   ]
  },
  {
   "cell_type": "code",
   "execution_count": null,
   "id": "06b160c5-0c43-425f-9969-20ce6cf2f4b3",
   "metadata": {},
   "outputs": [],
   "source": []
  }
 ],
 "metadata": {
  "kernelspec": {
   "display_name": "Python 3 (ipykernel)",
   "language": "python",
   "name": "python3"
  },
  "language_info": {
   "codemirror_mode": {
    "name": "ipython",
    "version": 3
   },
   "file_extension": ".py",
   "mimetype": "text/x-python",
   "name": "python",
   "nbconvert_exporter": "python",
   "pygments_lexer": "ipython3",
   "version": "3.11.5"
  }
 },
 "nbformat": 4,
 "nbformat_minor": 5
}
